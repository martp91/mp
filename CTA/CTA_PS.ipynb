{
 "cells": [
  {
   "cell_type": "code",
   "execution_count": null,
   "metadata": {
    "collapsed": true
   },
   "outputs": [],
   "source": [
    "import numpy as np\n",
    "import xml.etree.ElementTree as ET\n",
    "import pylab as plt\n",
    "from scipy.integrate import quad\n",
    "%matplotlib inline"
   ]
  },
  {
   "cell_type": "code",
   "execution_count": null,
   "metadata": {
    "collapsed": true
   },
   "outputs": [],
   "source": [
    "file1 = 'catalog_gps_20180124.xml'"
   ]
  },
  {
   "cell_type": "code",
   "execution_count": null,
   "metadata": {
    "collapsed": true
   },
   "outputs": [],
   "source": [
    "tree = ET.parse(file1)\n",
    "root = tree.getroot()"
   ]
  },
  {
   "cell_type": "code",
   "execution_count": null,
   "metadata": {},
   "outputs": [],
   "source": [
    "Espace = np.logspace(2,5,101)\n",
    "E = (Espace[1:]+Espace[0:-1])/2.\n",
    "dE = Espace[1:]-Espace[0:-1]\n",
    "Emask = (E>=300)&(E<=1000)\n",
    "powerlaw = lambda E, pf,I,PE: pf*(E/PE)**I\n",
    "logparabola = lambda E,pf,I,C,PE: pf*(E/PE)**(I+C*np.log(E/PE))"
   ]
  },
  {
   "cell_type": "code",
   "execution_count": null,
   "metadata": {},
   "outputs": [],
   "source": [
    "specs = []\n",
    "flux_300_1000 = []\n",
    "for child in root.iter('spectrum'):\n",
    "    if child.attrib['type']=='PowerLaw':\n",
    "        Pf = float(child[0].attrib['value'])*float(child[0].attrib['scale'])*1000.\n",
    "        In = float(child[1].attrib['value'])*float(child[1].attrib['scale'])\n",
    "        PE = float(child[2].attrib['value'])*float(child[2].attrib['scale'])/1000.\n",
    "        spec = powerlaw(E,Pf,In,PE)\n",
    "        flux = (1./(In+1))*(Pf/PE**In)*(1000**(In+1)-300**(In+1))\n",
    "    elif child.attrib['type']=='LogParabola':\n",
    "        Pf = float(child[0].attrib['value'])*float(child[0].attrib['scale'])*1000.\n",
    "        In = float(child[1].attrib['value'])*float(child[1].attrib['scale'])\n",
    "        C = float(child[2].attrib['value'])*float(child[2].attrib['scale'])\n",
    "        PE = float(child[3].attrib['value'])*float(child[3].attrib['scale'])/1000.\n",
    "        spec = logparabola(E,Pf,In,C,PE)\n",
    "        flux = quad(logparabola,300,1000,args=(Pf,In,C,PE))[0]\n",
    "        \n",
    "    flux_300_1000.append(flux)    \n",
    "    specs.append(spec)\n",
    "specs = np.array(specs)\n"
   ]
  },
  {
   "cell_type": "code",
   "execution_count": null,
   "metadata": {},
   "outputs": [],
   "source": [
    "hist,bins = np.histogram(flux_300_1000,bins= np.logspace(-14,-10,15))\n",
    "bins = (bins[1:]+bins[0:-1])/2.\n",
    "plt.loglog(bins,hist,marker='s')"
   ]
  },
  {
   "cell_type": "code",
   "execution_count": 6,
   "metadata": {
    "collapsed": true
   },
   "outputs": [],
   "source": [
    "import readXML\n",
    "import numpy as np\n",
    "import pylab as plt\n",
    "%matplotlib inline\n",
    "file1 =  'catalog_gps_20180124.xml'\n",
    "file2 = 'catalog_gps_20180124_lowTS.xml'"
   ]
  },
  {
   "cell_type": "code",
   "execution_count": 10,
   "metadata": {},
   "outputs": [],
   "source": [
    "f,s = readXML.flux_spec(file1)\n",
    "f1,s2 = readXML.flux_spec(file2)\n"
   ]
  },
  {
   "cell_type": "code",
   "execution_count": 13,
   "metadata": {},
   "outputs": [
    {
     "data": {
      "text/plain": [
       "[<matplotlib.lines.Line2D at 0x7fa7b5c33210>]"
      ]
     },
     "execution_count": 13,
     "metadata": {},
     "output_type": "execute_result"
    },
    {
     "data": {
      "image/png": "[encoded data removed]",
      "text/plain": [
       "<matplotlib.figure.Figure at 0x7fa7b59434d0>"
      ]
     },
     "metadata": {},
     "output_type": "display_data"
    }
   ],
   "source": [
    "hist,bins = np.histogram(f,bins= np.logspace(-14,-10,15))\n",
    "bins = (bins[1:]+bins[0:-1])/2.\n",
    "plt.loglog(bins,hist,marker='s')\n"
   ]
  },
  {
   "cell_type": "code",
   "execution_count": 14,
   "metadata": {},
   "outputs": [
    {
     "data": {
      "text/plain": [
       "[<matplotlib.lines.Line2D at 0x7fa7b7eb6890>]"
      ]
     },
     "execution_count": 14,
     "metadata": {},
     "output_type": "execute_result"
    },
    {
     "data": {
      "image/png": "[encoded data removed]",
      "text/plain": [
       "<matplotlib.figure.Figure at 0x7fa7b5b83190>"
      ]
     },
     "metadata": {},
     "output_type": "display_data"
    }
   ],
   "source": [
    "f = np.concatenate((f,f1))\n",
    "hist,bins = np.histogram(f,bins= np.logspace(-14,-10,15))\n",
    "bins = (bins[1:]+bins[0:-1])/2.\n",
    "plt.loglog(bins,hist,marker='s')"
   ]
  },
  {
   "cell_type": "code",
   "execution_count": null,
   "metadata": {
    "collapsed": true
   },
   "outputs": [],
   "source": []
  }
 ],
 "metadata": {
  "kernelspec": {
   "display_name": "Python 2",
   "language": "python",
   "name": "python2"
  },
  "language_info": {
   "codemirror_mode": {
    "name": "ipython",
    "version": 2
   },
   "file_extension": ".py",
   "mimetype": "text/x-python",
   "name": "python",
   "nbconvert_exporter": "python",
   "pygments_lexer": "ipython2",
   "version": "2.7.14"
  }
 },
 "nbformat": 4,
 "nbformat_minor": 2
}
